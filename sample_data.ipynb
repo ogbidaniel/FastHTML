{
 "cells": [
  {
   "cell_type": "markdown",
   "metadata": {},
   "source": [
    "# Sample Data Exploration\n",
    "\n",
    "### Create a dataframe\n",
    " First we use the read excel function to create a dataframe of the excel sheet"
   ]
  },
  {
   "cell_type": "code",
   "execution_count": 2,
   "metadata": {},
   "outputs": [],
   "source": [
    "import pandas as pd\n",
    "\n",
    "df = pd.read_excel('sample_data.xlsx')"
   ]
  },
  {
   "cell_type": "code",
   "execution_count": 7,
   "metadata": {},
   "outputs": [],
   "source": [
    "import pandas as pd\n",
    "\n",
    "# # Load the Excel file\n",
    "# # Specify the sheet name or index to read a specific sheet\n",
    "# df_sheet1 = pd.read_excel('sample_data.xlsx', sheet_name='Sheet1')\n",
    "# df_sheet2 = pd.read_excel('sample_data.xlsx', sheet_name='Sheet2')\n",
    "# df_sheet3 = pd.read_excel('sample_data.xlsx', sheet_name='Sheet3')\n",
    "\n",
    "# # If you know the sheet names:\n",
    "# df_sheet1 = pd.read_excel('sample_data.xlsx', sheet_name='YourSheetName1')\n",
    "# df_sheet2 = pd.read_excel('sample_data.xlsx', sheet_name='YourSheetName2')\n",
    "# df_sheet3 = pd.read_excel('sample_data.xlsx', sheet_name='YourSheetName3')\n",
    "\n",
    "# Or use the sheet index (0-based index):\n",
    "df_sheet1 = pd.read_excel('sample_data.xlsx', sheet_name=0)  # First sheet\n",
    "df_sheet2 = pd.read_excel('sample_data.xlsx', sheet_name=1)  # Second sheet\n",
    "df_sheet3 = pd.read_excel('sample_data.xlsx', sheet_name=2)  # Third sheet"
   ]
  },
  {
   "cell_type": "markdown",
   "metadata": {},
   "source": [
    "### Display the first few rows of the DataFrame"
   ]
  },
  {
   "cell_type": "code",
   "execution_count": 13,
   "metadata": {},
   "outputs": [
    {
     "name": "stdout",
     "output_type": "stream",
     "text": [
      "   S/N                      CONPANY NAME        SECTOR  YEAR   \n",
      "0    1  Livestock Feeds PLC (LIVESTOC NL)  Agriculture  2014  \\\n",
      "1    1  Livestock Feeds PLC (LIVESTOC NL)  Agriculture  2015   \n",
      "2    1  Livestock Feeds PLC (LIVESTOC NL)  Agriculture  2016   \n",
      "3    1  Livestock Feeds PLC (LIVESTOC NL)  Agriculture  2017   \n",
      "4    1  Livestock Feeds PLC (LIVESTOC NL)  Agriculture  2018   \n",
      "\n",
      "   INDUSTRY DIFFERENCES  FIRM AGE  LEVERAGE       IOS  GROWTH     ROA   \n",
      "0                     1        36    0.9712  2.305070  0.5673  0.0442  \\\n",
      "1                     1        37    0.2696  0.684762 -0.2057  0.0411   \n",
      "2                     1        38    1.1002  0.806904  0.6101  0.0207   \n",
      "3                     1        39    0.9626  1.198930 -0.2878 -0.1385   \n",
      "4                     1        40    1.1475  1.124697 -0.2495 -0.1960   \n",
      "\n",
      "   FIRM SIZE  Tobins Q  Unnamed: 12  \n",
      "0   6.759878  1.127603            9  \n",
      "1   6.659870  0.406023            8  \n",
      "2   6.866732  0.540211            7  \n",
      "3   6.719325  0.856883            6  \n",
      "4   6.594651  0.755275            5  \n"
     ]
    }
   ],
   "source": [
    "print(df_sheet3.head())"
   ]
  },
  {
   "cell_type": "code",
   "execution_count": 4,
   "metadata": {},
   "outputs": [
    {
     "name": "stdout",
     "output_type": "stream",
     "text": [
      "     S/N                           CONPANY NAME              SECTOR  YEAR   \n",
      "355   40  Thomas Wyatt Nigeria PLC (THOMASWY NL)  Natural Resources  2018  \\\n",
      "356   40  Thomas Wyatt Nigeria PLC (THOMASWY NL)  Natural Resources  2019   \n",
      "357   40  Thomas Wyatt Nigeria PLC (THOMASWY NL)  Natural Resources  2020   \n",
      "358   40  Thomas Wyatt Nigeria PLC (THOMASWY NL)  Natural Resources  2021   \n",
      "359   40  Thomas Wyatt Nigeria PLC (THOMASWY NL)  Natural Resources  2022   \n",
      "\n",
      "     Altman's Z-Score  Unnamed: 5  Unnamed: 6  Unnamed: 7  Unnamed: 8   \n",
      "355             -2.44         NaN         NaN         NaN         NaN  \\\n",
      "356             -2.85         NaN         NaN         NaN         NaN   \n",
      "357               NaN         NaN         NaN         NaN         NaN   \n",
      "358               NaN         NaN         NaN         NaN         NaN   \n",
      "359               NaN         NaN         NaN         NaN         NaN   \n",
      "\n",
      "     Unnamed: 9  ...  Board Ethnicity  Board Expertise  board duality   \n",
      "355         NaN  ...              NaN              NaN            NaN  \\\n",
      "356         NaN  ...              NaN              NaN            NaN   \n",
      "357         NaN  ...              NaN              NaN            NaN   \n",
      "358         NaN  ...              NaN              NaN            NaN   \n",
      "359         NaN  ...              NaN              NaN            NaN   \n",
      "\n",
      "     Board Diligence  Return on Asset  Return on Equity  Return on Sales  LQ   \n",
      "355              NaN              NaN               NaN              NaN NaN  \\\n",
      "356              NaN              NaN               NaN              NaN NaN   \n",
      "357              NaN              NaN               NaN              NaN NaN   \n",
      "358              NaN              NaN               NaN              NaN NaN   \n",
      "359              NaN              NaN               NaN              NaN NaN   \n",
      "\n",
      "     FIRM SIZE  FIRM AGE  \n",
      "355        NaN       NaN  \n",
      "356        NaN       NaN  \n",
      "357        NaN       NaN  \n",
      "358        NaN       NaN  \n",
      "359        NaN       NaN  \n",
      "\n",
      "[5 rows x 27 columns]\n"
     ]
    }
   ],
   "source": [
    "# Display the last few rows of the DataFrame\n",
    "print(df.tail())"
   ]
  },
  {
   "cell_type": "code",
   "execution_count": 5,
   "metadata": {},
   "outputs": [
    {
     "name": "stdout",
     "output_type": "stream",
     "text": [
      "(360, 27)\n"
     ]
    }
   ],
   "source": [
    "# Get the shape of the DataFrame (rows, columns)\n",
    "print(df.shape)"
   ]
  },
  {
   "cell_type": "code",
   "execution_count": 6,
   "metadata": {},
   "outputs": [
    {
     "name": "stdout",
     "output_type": "stream",
     "text": [
      "<class 'pandas.core.frame.DataFrame'>\n",
      "RangeIndex: 360 entries, 0 to 359\n",
      "Data columns (total 27 columns):\n",
      " #   Column             Non-Null Count  Dtype  \n",
      "---  ------             --------------  -----  \n",
      " 0   S/N                360 non-null    int64  \n",
      " 1   CONPANY NAME       360 non-null    object \n",
      " 2   SECTOR             360 non-null    object \n",
      " 3   YEAR               360 non-null    int64  \n",
      " 4   Altman's Z-Score   310 non-null    float64\n",
      " 5   Unnamed: 5         0 non-null      float64\n",
      " 6   Unnamed: 6         0 non-null      float64\n",
      " 7   Unnamed: 7         0 non-null      float64\n",
      " 8   Unnamed: 8         0 non-null      float64\n",
      " 9   Unnamed: 9         0 non-null      float64\n",
      " 10  REM COMM DIS       0 non-null      float64\n",
      " 11  BIG 4              0 non-null      float64\n",
      " 12  CEO Gender         0 non-null      float64\n",
      " 13  Board Size         0 non-null      float64\n",
      " 14  Ceo Duality        0 non-null      float64\n",
      " 15  Gender Diversity   0 non-null      float64\n",
      " 16  Board Nationality  0 non-null      float64\n",
      " 17  Board Ethnicity    0 non-null      float64\n",
      " 18  Board Expertise    0 non-null      float64\n",
      " 19  board duality      0 non-null      float64\n",
      " 20  Board Diligence    0 non-null      float64\n",
      " 21  Return on Asset    7 non-null      float64\n",
      " 22  Return on Equity   0 non-null      float64\n",
      " 23  Return on Sales    0 non-null      float64\n",
      " 24  LQ                 0 non-null      float64\n",
      " 25  FIRM SIZE          0 non-null      float64\n",
      " 26  FIRM AGE           0 non-null      float64\n",
      "dtypes: float64(23), int64(2), object(2)\n",
      "memory usage: 76.1+ KB\n",
      "None\n"
     ]
    }
   ],
   "source": [
    "# Get a concise summary of the DataFrame, including data types and non-null counts\n",
    "print(df.info())"
   ]
  }
 ],
 "metadata": {
  "kernelspec": {
   "display_name": "Python 3",
   "language": "python",
   "name": "python3"
  },
  "language_info": {
   "codemirror_mode": {
    "name": "ipython",
    "version": 3
   },
   "file_extension": ".py",
   "mimetype": "text/x-python",
   "name": "python",
   "nbconvert_exporter": "python",
   "pygments_lexer": "ipython3",
   "version": "3.11.3"
  }
 },
 "nbformat": 4,
 "nbformat_minor": 2
}
